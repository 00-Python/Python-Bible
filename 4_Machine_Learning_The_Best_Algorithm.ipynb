{
  "nbformat": 4,
  "nbformat_minor": 0,
  "metadata": {
    "colab": {
      "provenance": [],
      "authorship_tag": "ABX9TyOAMwDrTocGI4sDVBkRQ0ae",
      "include_colab_link": true
    },
    "kernelspec": {
      "name": "python3",
      "display_name": "Python 3"
    },
    "language_info": {
      "name": "python"
    }
  },
  "cells": [
    {
      "cell_type": "markdown",
      "metadata": {
        "id": "view-in-github",
        "colab_type": "text"
      },
      "source": [
        "<a href=\"https://colab.research.google.com/github/00-Python/Python-Bible-/blob/main/4_Machine_Learning_The_Best_Algorithm.ipynb\" target=\"_parent\"><img src=\"https://colab.research.google.com/assets/colab-badge.svg\" alt=\"Open In Colab\"/></a>"
      ]
    },
    {
      "cell_type": "code",
      "execution_count": 1,
      "metadata": {
        "id": "SHo_dnCDHg6u"
      },
      "outputs": [],
      "source": [
        "from sklearn.neighbors import KNeighborsClassifier\n",
        "from sklearn.naive_bayes import GaussianNB\n",
        "from sklearn.linear_model import LogisticRegression\n",
        "from sklearn.tree import DecisionTreeClassifier\n",
        "from sklearn.ensemble import RandomForestClassifier\n",
        "from sklearn.model_selection import train_test_split\n",
        "\n",
        "\n",
        "import numpy as np\n",
        "from sklearn.datasets import load_breast_cancer\n"
      ]
    },
    {
      "cell_type": "code",
      "source": [
        "data = load_breast_cancer()\n",
        "\n",
        "X = np.array(data.data)\n",
        "Y = np.array(data.target)\n",
        "X_train, X_test, Y_train, Y_test = train_test_split(X, Y, test_size=0.1)"
      ],
      "metadata": {
        "id": "4vard3WtKyqq"
      },
      "execution_count": 2,
      "outputs": []
    },
    {
      "cell_type": "code",
      "source": [
        "clf1 = KNeighborsClassifier(n_neighbors=5)\n",
        "clf2 = GaussianNB()\n",
        "clf3 = LogisticRegression()\n",
        "clf4 = DecisionTreeClassifier()\n",
        "clf5 = RandomForestClassifier()\n",
        "\n",
        "clf1.fit(X_train, Y_train)\n",
        "clf2.fit(X_train, Y_train)\n",
        "clf3.fit(X_train, Y_train)\n",
        "clf4.fit(X_train, Y_train)\n",
        "clf5.fit(X_train, Y_train)\n",
        "\n",
        "print(\"K Nearest Neighbors: \\n\", clf1.score(X_test, Y_test), \"\\n\")\n",
        "print(\"Naive Bayes: \\n\", clf2.score(X_test, Y_test), \"\\n\")\n",
        "print(\"Logistic Regression: \\n\", clf3.score(X_test, Y_test), \"\\n\")\n",
        "print(\"Decision Tree Classifier: \\n\", clf4.score(X_test, Y_test), \"\\n\")\n",
        "print(\"Random Forest Classifier: \\n\", clf5.score(X_test, Y_test), \"\\n\")\n",
        "\n",
        "\n"
      ],
      "metadata": {
        "colab": {
          "base_uri": "https://localhost:8080/"
        },
        "id": "Mdwbrk9nJxdF",
        "outputId": "b728cab3-9f0f-4976-8afb-2b2e3a0c5211"
      },
      "execution_count": 11,
      "outputs": [
        {
          "output_type": "stream",
          "name": "stderr",
          "text": [
            "/usr/local/lib/python3.8/dist-packages/sklearn/linear_model/_logistic.py:814: ConvergenceWarning: lbfgs failed to converge (status=1):\n",
            "STOP: TOTAL NO. of ITERATIONS REACHED LIMIT.\n",
            "\n",
            "Increase the number of iterations (max_iter) or scale the data as shown in:\n",
            "    https://scikit-learn.org/stable/modules/preprocessing.html\n",
            "Please also refer to the documentation for alternative solver options:\n",
            "    https://scikit-learn.org/stable/modules/linear_model.html#logistic-regression\n",
            "  n_iter_i = _check_optimize_result(\n"
          ]
        },
        {
          "output_type": "stream",
          "name": "stdout",
          "text": [
            "K Nearest Neighbors: \n",
            " 0.9122807017543859 \n",
            "\n",
            "Naive Bayes: \n",
            " 0.9473684210526315 \n",
            "\n",
            "Logistic Regression: \n",
            " 0.8947368421052632 \n",
            "\n",
            "Decision Tree Classifier: \n",
            " 0.9122807017543859 \n",
            "\n",
            "Random Forest Classifier: \n",
            " 0.9649122807017544 \n",
            "\n"
          ]
        }
      ]
    },
    {
      "cell_type": "code",
      "source": [],
      "metadata": {
        "id": "Y6B7AhvxKTt7"
      },
      "execution_count": null,
      "outputs": []
    }
  ]
}