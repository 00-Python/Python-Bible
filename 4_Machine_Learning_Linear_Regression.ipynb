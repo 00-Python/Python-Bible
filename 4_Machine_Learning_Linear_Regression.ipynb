{
  "nbformat": 4,
  "nbformat_minor": 0,
  "metadata": {
    "colab": {
      "provenance": [],
      "authorship_tag": "ABX9TyOl84dxSlrWE7eNFM3VwtOT",
      "include_colab_link": true
    },
    "kernelspec": {
      "name": "python3",
      "display_name": "Python 3"
    },
    "language_info": {
      "name": "python"
    }
  },
  "cells": [
    {
      "cell_type": "markdown",
      "metadata": {
        "id": "view-in-github",
        "colab_type": "text"
      },
      "source": [
        "<a href=\"https://colab.research.google.com/github/00-Python/Python-Bible-/blob/main/4_Machine_Learning_Linear_Regression.ipynb\" target=\"_parent\"><img src=\"https://colab.research.google.com/assets/colab-badge.svg\" alt=\"Open In Colab\"/></a>"
      ]
    },
    {
      "cell_type": "code",
      "execution_count": null,
      "metadata": {
        "id": "5e3JRCCacCNA"
      },
      "outputs": [],
      "source": [
        "!pip freeze"
      ]
    },
    {
      "cell_type": "markdown",
      "source": [
        "# Linear Regression Model with sklearn\n",
        "To make a linear regression model with sklearn\n",
        "\n",
        "First, start by downloading the data:\n",
        "https://archive.ics.uci.edu/ml/datasets/student+performance\n",
        "\n",
        "Then we import the necessary libraries:"
      ],
      "metadata": {
        "id": "_lS8vLGKcxVG"
      }
    },
    {
      "cell_type": "code",
      "source": [
        "import numpy as np\n",
        "import pandas as pd\n",
        "import matplotlib.pyplot as plt\n",
        "from sklearn.linear_model import LinearRegression\n",
        "from sklearn.model_selection import train_test_split"
      ],
      "metadata": {
        "id": "1aUgNMbncuwf"
      },
      "execution_count": null,
      "outputs": []
    },
    {
      "cell_type": "markdown",
      "source": [
        "Now we have to load the data from the CSV to a pandas dataframe"
      ],
      "metadata": {
        "id": "AG-TQgHwdw1y"
      }
    },
    {
      "cell_type": "code",
      "source": [
        "data = pd.read_csv('student-mat.csv', sep=';')"
      ],
      "metadata": {
        "id": "aDRBQU5IdvYs"
      },
      "execution_count": null,
      "outputs": []
    },
    {
      "cell_type": "markdown",
      "source": [
        "We choose the data we want to work with:"
      ],
      "metadata": {
        "id": "8_i0jyGBhExO"
      }
    },
    {
      "cell_type": "code",
      "source": [
        "data = data[['age', 'sex', 'studytime', 'absences', 'G1', 'G2', 'G3']]"
      ],
      "metadata": {
        "id": "Vys_mNzHgpU8"
      },
      "execution_count": null,
      "outputs": []
    },
    {
      "cell_type": "markdown",
      "source": [
        "Now all we need to do is convert the sex data to numeric values so the model can understand it.\n",
        "\n",
        "We will convert F(female) to 0\n",
        "and, M(male) to 1"
      ],
      "metadata": {
        "id": "uyjn7ymUh_Ns"
      }
    },
    {
      "cell_type": "code",
      "source": [
        "data['sex'] = data['sex'].map({'F': 0, 'M':1})"
      ],
      "metadata": {
        "id": "7sFY0-0ZicUs"
      },
      "execution_count": null,
      "outputs": []
    },
    {
      "cell_type": "markdown",
      "source": [
        "Finally, we define the column of the desired label as a variable to make it easier to work with."
      ],
      "metadata": {
        "id": "fjUXw2iti3Xf"
      }
    },
    {
      "cell_type": "code",
      "source": [
        "prediction = 'G3'"
      ],
      "metadata": {
        "id": "s066zyKMjIGo"
      },
      "execution_count": null,
      "outputs": []
    },
    {
      "cell_type": "markdown",
      "source": [
        "## Preparing The Data\n",
        "As sklearn can't understand pandas dataframes we need to convert the data to NumPy arrays  "
      ],
      "metadata": {
        "id": "FStb-LcRjxsM"
      }
    },
    {
      "cell_type": "code",
      "source": [
        "X = np.array(data.drop(columns=[prediction], axis=1))\n",
        "Y = np.array(data[prediction])"
      ],
      "metadata": {
        "id": "4LdoPT4WkokH"
      },
      "execution_count": null,
      "outputs": []
    },
    {
      "cell_type": "markdown",
      "source": [
        "## Splitting The Data\n",
        "We need to spliit the data to be able to train and test. We do that the following way:"
      ],
      "metadata": {
        "id": "v_xXhqvDl5_C"
      }
    },
    {
      "cell_type": "code",
      "source": [
        "X_train, X_test, Y_train, Y_test = train_test_split(X, Y, test_size=0.1)"
      ],
      "metadata": {
        "id": "mgjhVC1kmIXY"
      },
      "execution_count": null,
      "outputs": []
    },
    {
      "cell_type": "markdown",
      "source": [
        "## Training and Testing\n",
        "Now we can start training and testing our model. For that, wwe first define our model."
      ],
      "metadata": {
        "id": "xR8pLeJymoTc"
      }
    },
    {
      "cell_type": "code",
      "source": [
        "model = LinearRegression()\n",
        "model.fit(X_train, Y_train)"
      ],
      "metadata": {
        "colab": {
          "base_uri": "https://localhost:8080/"
        },
        "id": "79MZrKIum45p",
        "outputId": "f3e6f874-d73e-4ad7-8484-a4689884f18d"
      },
      "execution_count": null,
      "outputs": [
        {
          "output_type": "execute_result",
          "data": {
            "text/plain": [
              "LinearRegression()"
            ]
          },
          "metadata": {},
          "execution_count": 23
        }
      ]
    },
    {
      "cell_type": "markdown",
      "source": [
        "### Now the model is created lets test it."
      ],
      "metadata": {
        "id": "UX7HFt3nnmVm"
      }
    },
    {
      "cell_type": "code",
      "source": [
        "accuracy = model.score(X_test, Y_test)\n",
        "print(accuracy)"
      ],
      "metadata": {
        "colab": {
          "base_uri": "https://localhost:8080/"
        },
        "id": "XfpQwUhAnvx8",
        "outputId": "fb2fcf16-2f6f-4132-a814-e6f506d71b11"
      },
      "execution_count": null,
      "outputs": [
        {
          "output_type": "stream",
          "name": "stdout",
          "text": [
            "0.8931331719979823\n"
          ]
        }
      ]
    },
    {
      "cell_type": "markdown",
      "source": [
        "# Making a prediction from new data"
      ],
      "metadata": {
        "id": "5lWYn9lEo4nt"
      }
    },
    {
      "cell_type": "code",
      "source": [
        "X_new = np.array([[18, 1, 3, 40, 7, 5]])\n",
        "Y_new = model.predict(X_new)\n",
        "print(Y_new)"
      ],
      "metadata": {
        "colab": {
          "base_uri": "https://localhost:8080/"
        },
        "id": "B_39B2_ao-rJ",
        "outputId": "dd40bd63-e58b-4e41-badf-3196a36db365"
      },
      "execution_count": null,
      "outputs": [
        {
          "output_type": "stream",
          "name": "stdout",
          "text": [
            "[5.28060644]\n"
          ]
        }
      ]
    }
  ]
}